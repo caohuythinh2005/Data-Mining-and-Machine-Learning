{
 "cells": [
  {
   "cell_type": "code",
   "execution_count": 1,
   "metadata": {},
   "outputs": [],
   "source": [
    "import numpy as np"
   ]
  },
  {
   "cell_type": "code",
   "execution_count": 2,
   "metadata": {},
   "outputs": [],
   "source": [
    "p = np.array((0.3, 0.333, 0.287, 0.08))"
   ]
  },
  {
   "cell_type": "code",
   "execution_count": 3,
   "metadata": {},
   "outputs": [
    {
     "data": {
      "text/plain": [
       "0.9999999999999999"
      ]
     },
     "execution_count": 3,
     "metadata": {},
     "output_type": "execute_result"
    }
   ],
   "source": [
    "p.sum(axis=0)"
   ]
  },
  {
   "cell_type": "code",
   "execution_count": 4,
   "metadata": {},
   "outputs": [
    {
     "data": {
      "text/plain": [
       "array([[ 0.21    , -0.0999  , -0.0861  , -0.024   ],\n",
       "       [-0.0999  ,  0.222111, -0.095571, -0.02664 ],\n",
       "       [-0.0861  , -0.095571,  0.204631, -0.02296 ],\n",
       "       [-0.024   , -0.02664 , -0.02296 ,  0.0736  ]])"
      ]
     },
     "execution_count": 4,
     "metadata": {},
     "output_type": "execute_result"
    }
   ],
   "source": [
    "cov_matrix = np.diag(p) - p.reshape(p.shape[0], 1) @ p.reshape(1, p.shape[0])\n",
    "cov_matrix"
   ]
  },
  {
   "cell_type": "code",
   "execution_count": 5,
   "metadata": {},
   "outputs": [
    {
     "data": {
      "text/plain": [
       "array([-6.93889390e-18, -3.46944695e-18,  1.04083409e-17,  0.00000000e+00])"
      ]
     },
     "execution_count": 5,
     "metadata": {},
     "output_type": "execute_result"
    }
   ],
   "source": [
    "cov_matrix.sum(axis=0)"
   ]
  },
  {
   "cell_type": "code",
   "execution_count": 6,
   "metadata": {},
   "outputs": [
    {
     "data": {
      "text/plain": [
       "array([-6.93889390e-18, -3.46944695e-18,  1.04083409e-17,  0.00000000e+00])"
      ]
     },
     "execution_count": 6,
     "metadata": {},
     "output_type": "execute_result"
    }
   ],
   "source": [
    "cov_matrix.sum(axis=1)"
   ]
  },
  {
   "cell_type": "code",
   "execution_count": 7,
   "metadata": {},
   "outputs": [
    {
     "data": {
      "text/plain": [
       "array([[-0.4,  0.4],\n",
       "       [-0.4,  0.4],\n",
       "       [ 0.6, -0.6],\n",
       "       [-0.4,  0.4],\n",
       "       [ 0.6, -0.6]])"
      ]
     },
     "execution_count": 7,
     "metadata": {},
     "output_type": "execute_result"
    }
   ],
   "source": [
    "A = np.array([[0, 1], [0, 1], [1, 0], [0, 1], [1, 0]])\n",
    "centered_A = A - np.mean(A, axis=0)\n",
    "centered_A"
   ]
  },
  {
   "cell_type": "code",
   "execution_count": 8,
   "metadata": {},
   "outputs": [
    {
     "data": {
      "text/plain": [
       "array([[ 0.24, -0.24],\n",
       "       [-0.24,  0.24]])"
      ]
     },
     "execution_count": 8,
     "metadata": {},
     "output_type": "execute_result"
    }
   ],
   "source": [
    "cov_matrix_A = centered_A.T @ centered_A / centered_A.shape[0]\n",
    "cov_matrix_A"
   ]
  },
  {
   "cell_type": "code",
   "execution_count": 9,
   "metadata": {},
   "outputs": [
    {
     "data": {
      "text/plain": [
       "array([0.4, 0.6])"
      ]
     },
     "execution_count": 9,
     "metadata": {},
     "output_type": "execute_result"
    }
   ],
   "source": [
    "p = np.array([0.4, 0.6])\n",
    "p"
   ]
  },
  {
   "cell_type": "code",
   "execution_count": 10,
   "metadata": {},
   "outputs": [
    {
     "data": {
      "text/plain": [
       "array([[ 0.24, -0.24],\n",
       "       [-0.24,  0.24]])"
      ]
     },
     "execution_count": 10,
     "metadata": {},
     "output_type": "execute_result"
    }
   ],
   "source": [
    "cov_matrix = np.diag(p) - p.reshape((p.shape[0], 1)) @ p.reshape((1, p.shape[0]))\n",
    "cov_matrix"
   ]
  },
  {
   "cell_type": "code",
   "execution_count": 11,
   "metadata": {},
   "outputs": [
    {
     "data": {
      "text/plain": [
       "array([[ 7, 33,  5],\n",
       "       [24, 18,  8],\n",
       "       [13, 30,  0],\n",
       "       [ 3,  7,  2]])"
      ]
     },
     "execution_count": 11,
     "metadata": {},
     "output_type": "execute_result"
    }
   ],
   "source": [
    "data = np.array([[7, 33, 5], [24, 18, 8], [13, 30, 0], [3, 7, 2]])\n",
    "data"
   ]
  },
  {
   "cell_type": "code",
   "execution_count": 12,
   "metadata": {},
   "outputs": [
    {
     "data": {
      "text/plain": [
       "array([45, 50, 43, 12])"
      ]
     },
     "execution_count": 12,
     "metadata": {},
     "output_type": "execute_result"
    }
   ],
   "source": [
    "A = data.sum(axis=1)\n",
    "A"
   ]
  },
  {
   "cell_type": "code",
   "execution_count": 14,
   "metadata": {},
   "outputs": [
    {
     "data": {
      "text/plain": [
       "array([0.3       , 0.33333333, 0.28666667, 0.08      ])"
      ]
     },
     "execution_count": 14,
     "metadata": {},
     "output_type": "execute_result"
    }
   ],
   "source": [
    "prob_row = A / A.sum()\n",
    "prob_row"
   ]
  },
  {
   "cell_type": "code",
   "execution_count": 15,
   "metadata": {},
   "outputs": [
    {
     "data": {
      "text/plain": [
       "array([0.3  , 0.333, 0.287, 0.08 ])"
      ]
     },
     "execution_count": 15,
     "metadata": {},
     "output_type": "execute_result"
    }
   ],
   "source": [
    "p1 = np.array([0.3, 0.333, 0.287, 0.08])\n",
    "p1"
   ]
  },
  {
   "cell_type": "code",
   "execution_count": 16,
   "metadata": {},
   "outputs": [
    {
     "data": {
      "text/plain": [
       "array([0.313, 0.587, 0.1  ])"
      ]
     },
     "execution_count": 16,
     "metadata": {},
     "output_type": "execute_result"
    }
   ],
   "source": [
    "p2 = np.array([0.313, 0.587, 0.1])\n",
    "p2"
   ]
  },
  {
   "cell_type": "code",
   "execution_count": 18,
   "metadata": {},
   "outputs": [
    {
     "data": {
      "text/plain": [
       "array([[ 0.21    , -0.0999  , -0.0861  , -0.024   ],\n",
       "       [-0.0999  ,  0.222111, -0.095571, -0.02664 ],\n",
       "       [-0.0861  , -0.095571,  0.204631, -0.02296 ],\n",
       "       [-0.024   , -0.02664 , -0.02296 ,  0.0736  ]])"
      ]
     },
     "execution_count": 18,
     "metadata": {},
     "output_type": "execute_result"
    }
   ],
   "source": [
    "cov_11 = np.diag(p1) - p1.reshape((p1.shape[0], 1)) * p1.reshape((1, p1.shape[0]))\n",
    "cov_11"
   ]
  },
  {
   "cell_type": "code",
   "execution_count": 25,
   "metadata": {},
   "outputs": [
    {
     "data": {
      "text/plain": [
       "array([[ 0.215031, -0.183731, -0.0313  ],\n",
       "       [-0.183731,  0.242431, -0.0587  ],\n",
       "       [-0.0313  , -0.0587  ,  0.09    ]])"
      ]
     },
     "execution_count": 25,
     "metadata": {},
     "output_type": "execute_result"
    }
   ],
   "source": [
    "cov_22 = np.diag(p2) - p2.reshape((p2.shape[0], 1)) @ p2.reshape((1, p2.shape[0]))\n",
    "cov_22"
   ]
  },
  {
   "cell_type": "code",
   "execution_count": 26,
   "metadata": {},
   "outputs": [
    {
     "data": {
      "text/plain": [
       "150"
      ]
     },
     "execution_count": 26,
     "metadata": {},
     "output_type": "execute_result"
    }
   ],
   "source": [
    "data.sum()"
   ]
  },
  {
   "cell_type": "code",
   "execution_count": 27,
   "metadata": {},
   "outputs": [
    {
     "data": {
      "text/plain": [
       "array([[0.04666667, 0.22      , 0.03333333],\n",
       "       [0.16      , 0.12      , 0.05333333],\n",
       "       [0.08666667, 0.2       , 0.        ],\n",
       "       [0.02      , 0.04666667, 0.01333333]])"
      ]
     },
     "execution_count": 27,
     "metadata": {},
     "output_type": "execute_result"
    }
   ],
   "source": [
    "joint_prob = data / data.sum()\n",
    "joint_prob"
   ]
  },
  {
   "cell_type": "code",
   "execution_count": 28,
   "metadata": {},
   "outputs": [
    {
     "name": "stdout",
     "output_type": "stream",
     "text": [
      "[0.3   0.333 0.287 0.08 ]\n",
      "[0.313 0.587 0.1  ]\n"
     ]
    }
   ],
   "source": [
    "print(p1)\n",
    "print(p2)"
   ]
  },
  {
   "cell_type": "code",
   "execution_count": 30,
   "metadata": {},
   "outputs": [
    {
     "data": {
      "text/plain": [
       "array([[-0.04723333,  0.0439    ,  0.00333333],\n",
       "       [ 0.055771  , -0.075471  ,  0.02003333],\n",
       "       [-0.00316433,  0.031531  , -0.0287    ],\n",
       "       [-0.00504   , -0.00029333,  0.00533333]])"
      ]
     },
     "execution_count": 30,
     "metadata": {},
     "output_type": "execute_result"
    }
   ],
   "source": [
    "cov_12 = (data / data.sum()) - p1.reshape((p1.shape[0], 1)) @ p2.reshape((1, p2.shape[0]))\n",
    "cov_12"
   ]
  },
  {
   "cell_type": "code",
   "execution_count": 32,
   "metadata": {},
   "outputs": [
    {
     "data": {
      "text/plain": [
       "array([[ 0.21      , -0.0999    , -0.0861    , -0.024     , -0.04723333,\n",
       "         0.0439    ,  0.00333333],\n",
       "       [-0.0999    ,  0.222111  , -0.095571  , -0.02664   ,  0.055771  ,\n",
       "        -0.075471  ,  0.02003333],\n",
       "       [-0.0861    , -0.095571  ,  0.204631  , -0.02296   , -0.00316433,\n",
       "         0.031531  , -0.0287    ],\n",
       "       [-0.024     , -0.02664   , -0.02296   ,  0.0736    , -0.00504   ,\n",
       "        -0.00029333,  0.00533333],\n",
       "       [-0.04723333,  0.055771  , -0.00316433, -0.00504   ,  0.215031  ,\n",
       "        -0.183731  , -0.0313    ],\n",
       "       [ 0.0439    , -0.075471  ,  0.031531  , -0.00029333, -0.183731  ,\n",
       "         0.242431  , -0.0587    ],\n",
       "       [ 0.00333333,  0.02003333, -0.0287    ,  0.00533333, -0.0313    ,\n",
       "        -0.0587    ,  0.09      ]])"
      ]
     },
     "execution_count": 32,
     "metadata": {},
     "output_type": "execute_result"
    }
   ],
   "source": [
    "cov = np.block([[cov_11, cov_12], [cov_12.T, cov_22]])\n",
    "cov"
   ]
  },
  {
   "cell_type": "code",
   "execution_count": 33,
   "metadata": {},
   "outputs": [
    {
     "data": {
      "text/plain": [
       "array([5, 7, 9])"
      ]
     },
     "execution_count": 33,
     "metadata": {},
     "output_type": "execute_result"
    }
   ],
   "source": [
    "A = np.array([[1, 2, 3], [4, 5, 6]])\n",
    "A.sum(axis=0)"
   ]
  },
  {
   "cell_type": "code",
   "execution_count": null,
   "metadata": {},
   "outputs": [],
   "source": []
  }
 ],
 "metadata": {
  "kernelspec": {
   "display_name": "Python 3",
   "language": "python",
   "name": "python3"
  },
  "language_info": {
   "codemirror_mode": {
    "name": "ipython",
    "version": 3
   },
   "file_extension": ".py",
   "mimetype": "text/x-python",
   "name": "python",
   "nbconvert_exporter": "python",
   "pygments_lexer": "ipython3",
   "version": "3.12.4"
  }
 },
 "nbformat": 4,
 "nbformat_minor": 2
}
